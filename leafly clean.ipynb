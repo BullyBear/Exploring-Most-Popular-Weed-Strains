{
 "cells": [
  {
   "cell_type": "code",
   "execution_count": 6,
   "metadata": {},
   "outputs": [],
   "source": [
    "import numpy as np\n",
    "import pandas as pd\n",
    "from pandas import Series, DataFrame \n",
    "import matplotlib.pyplot as plt\n",
    "import re\n",
    "import json"
   ]
  },
  {
   "cell_type": "code",
   "execution_count": 7,
   "metadata": {},
   "outputs": [],
   "source": [
    "df = pd.read_csv('master_info_final_v9.csv')"
   ]
  },
  {
   "cell_type": "code",
   "execution_count": 8,
   "metadata": {},
   "outputs": [],
   "source": [
    "feelings_helps_with = re.compile(r'FeelingsHelps withNegatives')\n",
    "space_after_percentage = re.compile(r'\\%.*$')"
   ]
  },
  {
   "cell_type": "code",
   "execution_count": 9,
   "metadata": {},
   "outputs": [],
   "source": [
    "def clean(row):\n",
    "    name = str(row['name'])\n",
    "    effects = str(row['effects'])\n",
    "    effects = re.sub(feelings_helps_with, '', effects)\n",
    "#     effects = re.sub(space_after_percentage, '% ', effects)\n",
    "    effects = effects.replace('%', '% ')\n",
    "    return pd.Series([effects])"
   ]
  },
  {
   "cell_type": "code",
   "execution_count": 10,
   "metadata": {},
   "outputs": [],
   "source": [
    "df['effects'] = df.apply(clean, axis=1)\n",
    "df.to_csv('master_info_final_v9_cleaned.csv')"
   ]
  },
  {
   "cell_type": "code",
   "execution_count": null,
   "metadata": {},
   "outputs": [],
   "source": []
  }
 ],
 "metadata": {
  "kernelspec": {
   "display_name": "Python 3",
   "language": "python",
   "name": "python3"
  },
  "language_info": {
   "codemirror_mode": {
    "name": "ipython",
    "version": 3
   },
   "file_extension": ".py",
   "mimetype": "text/x-python",
   "name": "python",
   "nbconvert_exporter": "python",
   "pygments_lexer": "ipython3",
   "version": "3.6.5"
  }
 },
 "nbformat": 4,
 "nbformat_minor": 2
}
